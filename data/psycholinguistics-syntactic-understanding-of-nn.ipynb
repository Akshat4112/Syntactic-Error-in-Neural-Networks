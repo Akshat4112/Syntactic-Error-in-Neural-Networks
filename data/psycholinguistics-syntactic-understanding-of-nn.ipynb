{
 "metadata": {
  "kernelspec": {
   "language": "python",
   "display_name": "Python 3",
   "name": "python3"
  },
  "language_info": {
   "name": "python",
   "version": "3.10.12",
   "mimetype": "text/x-python",
   "codemirror_mode": {
    "name": "ipython",
    "version": 3
   },
   "pygments_lexer": "ipython3",
   "nbconvert_exporter": "python",
   "file_extension": ".py"
  }
 },
 "nbformat_minor": 4,
 "nbformat": 4,
 "cells": [
  {
   "cell_type": "code",
   "source": [
    "import requests\n",
    "import io\n",
    "import os\n",
    "import warnings\n",
    "import re\n",
    "import nltk\n",
    "import gensim\n",
    "import numpy as np\n",
    "import pandas as pd\n",
    "from zipfile import ZipFile\n",
    "import matplotlib.pyplot as plt\n",
    "\n",
    "nltk.download('punkt')\n",
    "from nltk.corpus import stopwords  #stopwords\n",
    "from nltk import word_tokenize,sent_tokenize\n",
    "from gensim.models import Word2Vec\n",
    "\n",
    "import keras\n",
    "import tensorflow\n",
    "from keras.preprocessing.text import one_hot,Tokenizer\n",
    "from keras.utils import pad_sequences\n",
    "from keras.models import Sequential\n",
    "from keras.layers import Dense , Flatten ,Embedding,Input,CuDNNLSTM,LSTM\n",
    "from keras.models import Model\n",
    "from keras.preprocessing.text import text_to_word_sequence\n",
    "from sklearn.model_selection import train_test_split\n",
    "\n",
    "from keras.initializers import Constant\n",
    "from keras.layers import ReLU\n",
    "from keras.layers import Dropout\n",
    "\n",
    "tensorflow.random.set_seed(7)\n",
    "warnings.filterwarnings(\"ignore\")"
   ],
   "metadata": {
    "_uuid": "8f2839f25d086af736a60e9eeb907d3b93b6e0e5",
    "_cell_guid": "b1076dfc-b9ad-4769-8c92-a6c4dae69d19",
    "execution": {
     "iopub.status.busy": "2023-08-07T18:29:23.148659Z",
     "iopub.execute_input": "2023-08-07T18:29:23.149263Z",
     "iopub.status.idle": "2023-08-07T18:29:27.291758Z",
     "shell.execute_reply.started": "2023-08-07T18:29:23.149227Z",
     "shell.execute_reply": "2023-08-07T18:29:27.290604Z"
    },
    "trusted": true,
    "ExecuteTime": {
     "end_time": "2023-08-07T18:31:39.081793Z",
     "start_time": "2023-08-07T18:31:38.817615500Z"
    }
   },
   "execution_count": 1,
   "outputs": [
    {
     "ename": "ModuleNotFoundError",
     "evalue": "No module named 'nltk'",
     "output_type": "error",
     "traceback": [
      "\u001B[1;31m---------------------------------------------------------------------------\u001B[0m",
      "\u001B[1;31mModuleNotFoundError\u001B[0m                       Traceback (most recent call last)",
      "Cell \u001B[1;32mIn[1], line 6\u001B[0m\n\u001B[0;32m      4\u001B[0m \u001B[38;5;28;01mimport\u001B[39;00m \u001B[38;5;21;01mwarnings\u001B[39;00m\n\u001B[0;32m      5\u001B[0m \u001B[38;5;28;01mimport\u001B[39;00m \u001B[38;5;21;01mre\u001B[39;00m\n\u001B[1;32m----> 6\u001B[0m \u001B[38;5;28;01mimport\u001B[39;00m \u001B[38;5;21;01mnltk\u001B[39;00m\n\u001B[0;32m      7\u001B[0m \u001B[38;5;28;01mimport\u001B[39;00m \u001B[38;5;21;01mgensim\u001B[39;00m\n\u001B[0;32m      8\u001B[0m \u001B[38;5;28;01mimport\u001B[39;00m \u001B[38;5;21;01mnumpy\u001B[39;00m \u001B[38;5;28;01mas\u001B[39;00m \u001B[38;5;21;01mnp\u001B[39;00m\n",
      "\u001B[1;31mModuleNotFoundError\u001B[0m: No module named 'nltk'"
     ]
    }
   ]
  },
  {
   "cell_type": "code",
   "source": [
    "URL = \"https://raw.githubusercontent.com/TalLinzen/rnn_agreement/master/data/wiki.vocab\"\n",
    "download = requests.get(URL).content\n",
    "df = pd.read_csv(io.StringIO(download.decode('utf-8')),sep = '\\t')"
   ],
   "metadata": {
    "execution": {
     "iopub.status.busy": "2023-08-07T17:50:17.381187Z",
     "iopub.execute_input": "2023-08-07T17:50:17.381868Z",
     "iopub.status.idle": "2023-08-07T17:50:18.897604Z",
     "shell.execute_reply.started": "2023-08-07T17:50:17.381834Z",
     "shell.execute_reply": "2023-08-07T17:50:18.896427Z"
    },
    "trusted": true
   },
   "execution_count": 2,
   "outputs": []
  },
  {
   "cell_type": "code",
   "source": [
    "!wget http://tallinzen.net/media/rnn_agreement/rnn_agr_simple.tar.gz\n",
    "!tar -xzvf \"rnn_agr_simple.tar.gz\" -C ."
   ],
   "metadata": {
    "execution": {
     "iopub.status.busy": "2023-08-07T17:50:20.751713Z",
     "iopub.execute_input": "2023-08-07T17:50:20.752105Z",
     "iopub.status.idle": "2023-08-07T17:50:26.925342Z",
     "shell.execute_reply.started": "2023-08-07T17:50:20.752074Z",
     "shell.execute_reply": "2023-08-07T17:50:26.924183Z"
    },
    "trusted": true
   },
   "execution_count": 3,
   "outputs": [
    {
     "name": "stdout",
     "text": "--2023-08-07 17:50:21--  http://tallinzen.net/media/rnn_agreement/rnn_agr_simple.tar.gz\nResolving tallinzen.net (tallinzen.net)... 185.199.108.153\nConnecting to tallinzen.net (tallinzen.net)|185.199.108.153|:80... connected.\nHTTP request sent, awaiting response... 301 Moved Permanently\nLocation: https://tallinzen.net/media/rnn_agreement/rnn_agr_simple.tar.gz [following]\n--2023-08-07 17:50:21--  https://tallinzen.net/media/rnn_agreement/rnn_agr_simple.tar.gz\nConnecting to tallinzen.net (tallinzen.net)|185.199.108.153|:443... connected.\nHTTP request sent, awaiting response... 200 OK\nLength: 41326466 (39M) [application/gzip]\nSaving to: ‘rnn_agr_simple.tar.gz’\n\nrnn_agr_simple.tar. 100%[===================>]  39.41M  --.-KB/s    in 0.1s    \n\n2023-08-07 17:50:24 (293 MB/s) - ‘rnn_agr_simple.tar.gz’ saved [41326466/41326466]\n\n./._rnn_agr_simple\nrnn_agr_simple/\nrnn_agr_simple/._.README.txt.un~\nrnn_agr_simple/.README.txt.un~\nrnn_agr_simple/._numpred.test\nrnn_agr_simple/numpred.test\nrnn_agr_simple/._numpred.test.0\nrnn_agr_simple/numpred.test.0\nrnn_agr_simple/._numpred.test.1\nrnn_agr_simple/numpred.test.1\nrnn_agr_simple/._numpred.test.2\nrnn_agr_simple/numpred.test.2\nrnn_agr_simple/._numpred.test.3\nrnn_agr_simple/numpred.test.3\nrnn_agr_simple/._numpred.test.4\nrnn_agr_simple/numpred.test.4\nrnn_agr_simple/._numpred.test.5\nrnn_agr_simple/numpred.test.5\nrnn_agr_simple/._numpred.train\nrnn_agr_simple/numpred.train\nrnn_agr_simple/._numpred.val\nrnn_agr_simple/numpred.val\nrnn_agr_simple/._README.txt\nrnn_agr_simple/README.txt\n",
     "output_type": "stream"
    }
   ]
  },
  {
   "cell_type": "code",
   "source": [
    "df_train = pd.read_csv('rnn_agr_simple/numpred.train',sep = '\\t', names = ['POS', \"Preamble\"])\n",
    "df_val = pd.read_csv('rnn_agr_simple/numpred.val',sep = '\\t', names = ['POS', \"Preamble\"])"
   ],
   "metadata": {
    "execution": {
     "iopub.status.busy": "2023-08-07T17:50:30.897601Z",
     "iopub.execute_input": "2023-08-07T17:50:30.898011Z",
     "iopub.status.idle": "2023-08-07T17:50:31.061548Z",
     "shell.execute_reply.started": "2023-08-07T17:50:30.897955Z",
     "shell.execute_reply": "2023-08-07T17:50:31.060528Z"
    },
    "trusted": true
   },
   "execution_count": 4,
   "outputs": []
  },
  {
   "cell_type": "code",
   "source": [
    "df_train"
   ],
   "metadata": {
    "execution": {
     "iopub.status.busy": "2023-08-07T17:50:33.071151Z",
     "iopub.execute_input": "2023-08-07T17:50:33.071531Z",
     "iopub.status.idle": "2023-08-07T17:50:33.094052Z",
     "shell.execute_reply.started": "2023-08-07T17:50:33.071502Z",
     "shell.execute_reply": "2023-08-07T17:50:33.092977Z"
    },
    "trusted": true
   },
   "execution_count": 5,
   "outputs": [
    {
     "execution_count": 5,
     "output_type": "execute_result",
     "data": {
      "text/plain": "        POS                                           Preamble\n0       VBZ                                         the second\n1       VBZ                                     the JJ general\n2       VBP                                     these projects\n3       VBP  i think that 's what the NN is requesting for ...\n4       VBZ  the greek word translated as mark ( of the bea...\n...     ...                                                ...\n141943  VBP                                   the ticket cards\n141944  VBZ  NNP 's NNP NN , a popular measure of income NN...\n141945  VBZ  a further advanced pregnancy was reported in s...\n141946  VBZ                                          as timber\n141947  VBZ  detective NNP appears and reveals he is the pa...\n\n[141948 rows x 2 columns]",
      "text/html": "<div>\n<style scoped>\n    .dataframe tbody tr th:only-of-type {\n        vertical-align: middle;\n    }\n\n    .dataframe tbody tr th {\n        vertical-align: top;\n    }\n\n    .dataframe thead th {\n        text-align: right;\n    }\n</style>\n<table border=\"1\" class=\"dataframe\">\n  <thead>\n    <tr style=\"text-align: right;\">\n      <th></th>\n      <th>POS</th>\n      <th>Preamble</th>\n    </tr>\n  </thead>\n  <tbody>\n    <tr>\n      <th>0</th>\n      <td>VBZ</td>\n      <td>the second</td>\n    </tr>\n    <tr>\n      <th>1</th>\n      <td>VBZ</td>\n      <td>the JJ general</td>\n    </tr>\n    <tr>\n      <th>2</th>\n      <td>VBP</td>\n      <td>these projects</td>\n    </tr>\n    <tr>\n      <th>3</th>\n      <td>VBP</td>\n      <td>i think that 's what the NN is requesting for ...</td>\n    </tr>\n    <tr>\n      <th>4</th>\n      <td>VBZ</td>\n      <td>the greek word translated as mark ( of the bea...</td>\n    </tr>\n    <tr>\n      <th>...</th>\n      <td>...</td>\n      <td>...</td>\n    </tr>\n    <tr>\n      <th>141943</th>\n      <td>VBP</td>\n      <td>the ticket cards</td>\n    </tr>\n    <tr>\n      <th>141944</th>\n      <td>VBZ</td>\n      <td>NNP 's NNP NN , a popular measure of income NN...</td>\n    </tr>\n    <tr>\n      <th>141945</th>\n      <td>VBZ</td>\n      <td>a further advanced pregnancy was reported in s...</td>\n    </tr>\n    <tr>\n      <th>141946</th>\n      <td>VBZ</td>\n      <td>as timber</td>\n    </tr>\n    <tr>\n      <th>141947</th>\n      <td>VBZ</td>\n      <td>detective NNP appears and reveals he is the pa...</td>\n    </tr>\n  </tbody>\n</table>\n<p>141948 rows × 2 columns</p>\n</div>"
     },
     "metadata": {}
    }
   ]
  },
  {
   "cell_type": "code",
   "source": [
    "df_train[\"Preamble\"] = df_train[\"Preamble\"].apply(lambda s: ' '.join(re.sub(\"[.(),``!?:;-='...@_]\", \" \", s).split()))"
   ],
   "metadata": {
    "execution": {
     "iopub.status.busy": "2023-08-07T17:50:43.589593Z",
     "iopub.execute_input": "2023-08-07T17:50:43.589970Z",
     "iopub.status.idle": "2023-08-07T17:50:44.061013Z",
     "shell.execute_reply.started": "2023-08-07T17:50:43.589939Z",
     "shell.execute_reply": "2023-08-07T17:50:44.059965Z"
    },
    "trusted": true
   },
   "execution_count": 6,
   "outputs": []
  },
  {
   "cell_type": "code",
   "source": [
    "df_train.POS.unique()  # VBZ is singular and VBP is plural"
   ],
   "metadata": {
    "execution": {
     "iopub.status.busy": "2023-08-07T17:50:46.341431Z",
     "iopub.execute_input": "2023-08-07T17:50:46.341869Z",
     "iopub.status.idle": "2023-08-07T17:50:46.365882Z",
     "shell.execute_reply.started": "2023-08-07T17:50:46.341834Z",
     "shell.execute_reply": "2023-08-07T17:50:46.364977Z"
    },
    "trusted": true
   },
   "execution_count": 7,
   "outputs": [
    {
     "execution_count": 7,
     "output_type": "execute_result",
     "data": {
      "text/plain": "array(['VBZ', 'VBP'], dtype=object)"
     },
     "metadata": {}
    }
   ]
  },
  {
   "cell_type": "code",
   "source": [
    "tokenizer = nltk.data.load('tokenizers/punkt/english.pickle')\n",
    "\n",
    "sentences=[]\n",
    "sum = 0\n",
    "for pre in df_train['Preamble']:\n",
    "    sents=tokenizer.tokenize(pre.strip())\n",
    "    sum+=len(sents)\n",
    "    for sent in sents:\n",
    "        sentences.append(sent.split())"
   ],
   "metadata": {
    "execution": {
     "iopub.status.busy": "2023-08-07T17:50:50.166416Z",
     "iopub.execute_input": "2023-08-07T17:50:50.167103Z",
     "iopub.status.idle": "2023-08-07T17:50:52.877229Z",
     "shell.execute_reply.started": "2023-08-07T17:50:50.167052Z",
     "shell.execute_reply": "2023-08-07T17:50:52.876180Z"
    },
    "trusted": true
   },
   "execution_count": 8,
   "outputs": []
  },
  {
   "cell_type": "code",
   "source": [
    "model= gensim.models.Word2Vec(sentences=sentences,vector_size=250,window=10,min_count=1)\n",
    "model.train(sentences,epochs=10,total_examples=len(sentences))\n",
    "vocab = model.wv #unique words i.e vocab in the dataset\n",
    "len(vocab)"
   ],
   "metadata": {
    "execution": {
     "iopub.status.busy": "2023-08-07T17:50:54.367370Z",
     "iopub.execute_input": "2023-08-07T17:50:54.367765Z",
     "iopub.status.idle": "2023-08-07T17:51:29.952399Z",
     "shell.execute_reply.started": "2023-08-07T17:50:54.367730Z",
     "shell.execute_reply": "2023-08-07T17:51:29.951439Z"
    },
    "trusted": true
   },
   "execution_count": 9,
   "outputs": [
    {
     "execution_count": 9,
     "output_type": "execute_result",
     "data": {
      "text/plain": "9930"
     },
     "metadata": {}
    }
   ]
  },
  {
   "cell_type": "code",
   "source": [
    "words = list(model.wv.index_to_key) #list of words\n",
    "word2vec_dict={}\n",
    "for word in words:\n",
    "    word2vec_dict[word]= model.wv.get_vector(word)"
   ],
   "metadata": {
    "execution": {
     "iopub.status.busy": "2023-08-07T17:51:29.954509Z",
     "iopub.execute_input": "2023-08-07T17:51:29.955122Z",
     "iopub.status.idle": "2023-08-07T17:51:30.020674Z",
     "shell.execute_reply.started": "2023-08-07T17:51:29.955088Z",
     "shell.execute_reply": "2023-08-07T17:51:30.019052Z"
    },
    "trusted": true
   },
   "execution_count": 10,
   "outputs": []
  },
  {
   "cell_type": "code",
   "source": [
    "max=-1\n",
    "for i,pre in enumerate(df_train['Preamble']):\n",
    "    tokens=pre.split()\n",
    "    if(len(tokens)>max):\n",
    "        max=len(tokens)\n",
    "\n",
    "print(max)"
   ],
   "metadata": {
    "execution": {
     "iopub.status.busy": "2023-08-07T17:51:30.024778Z",
     "iopub.execute_input": "2023-08-07T17:51:30.025154Z",
     "iopub.status.idle": "2023-08-07T17:51:30.456028Z",
     "shell.execute_reply.started": "2023-08-07T17:51:30.025120Z",
     "shell.execute_reply": "2023-08-07T17:51:30.455101Z"
    },
    "trusted": true
   },
   "execution_count": 11,
   "outputs": [
    {
     "name": "stdout",
     "text": "47\n",
     "output_type": "stream"
    }
   ]
  },
  {
   "cell_type": "code",
   "source": [
    "tokenizer = Tokenizer()\n",
    "tokenizer.fit_on_texts(df_train['Preamble'])\n",
    "vocab_size = len(tokenizer.word_index) + 1\n",
    "encoded_vec = tokenizer.texts_to_sequences(df_train['Preamble'])"
   ],
   "metadata": {
    "execution": {
     "iopub.status.busy": "2023-08-07T17:51:30.461386Z",
     "iopub.execute_input": "2023-08-07T17:51:30.463634Z",
     "iopub.status.idle": "2023-08-07T17:51:34.887713Z",
     "shell.execute_reply.started": "2023-08-07T17:51:30.463597Z",
     "shell.execute_reply": "2023-08-07T17:51:34.886529Z"
    },
    "trusted": true
   },
   "execution_count": 12,
   "outputs": []
  },
  {
   "cell_type": "code",
   "source": [
    "max_len= 47\n",
    "vocab_size = len(tokenizer.word_index) + 1\n",
    "embedding_dim= 250"
   ],
   "metadata": {
    "execution": {
     "iopub.status.busy": "2023-08-07T17:51:34.889062Z",
     "iopub.execute_input": "2023-08-07T17:51:34.889425Z",
     "iopub.status.idle": "2023-08-07T17:51:34.895610Z",
     "shell.execute_reply.started": "2023-08-07T17:51:34.889388Z",
     "shell.execute_reply": "2023-08-07T17:51:34.894478Z"
    },
    "trusted": true
   },
   "execution_count": 13,
   "outputs": []
  },
  {
   "cell_type": "code",
   "source": [
    "pad= pad_sequences(encoded_vec, maxlen=max_len, padding='post')"
   ],
   "metadata": {
    "execution": {
     "iopub.status.busy": "2023-08-07T17:51:34.897120Z",
     "iopub.execute_input": "2023-08-07T17:51:34.897880Z",
     "iopub.status.idle": "2023-08-07T17:51:35.473455Z",
     "shell.execute_reply.started": "2023-08-07T17:51:34.897847Z",
     "shell.execute_reply": "2023-08-07T17:51:35.472398Z"
    },
    "trusted": true
   },
   "execution_count": 14,
   "outputs": []
  },
  {
   "cell_type": "code",
   "source": [
    "#embedding matrix\n",
    "embed_matrix=np.zeros(shape=(vocab_size,embedding_dim))\n",
    "for word,i in tokenizer.word_index.items():\n",
    "    vector=word2vec_dict.get(word)\n",
    "    if vector is not None:\n",
    "        embed_matrix[i] = vector"
   ],
   "metadata": {
    "execution": {
     "iopub.status.busy": "2023-08-07T17:51:35.474890Z",
     "iopub.execute_input": "2023-08-07T17:51:35.475284Z",
     "iopub.status.idle": "2023-08-07T17:51:35.509916Z",
     "shell.execute_reply.started": "2023-08-07T17:51:35.475249Z",
     "shell.execute_reply": "2023-08-07T17:51:35.508978Z"
    },
    "trusted": true
   },
   "execution_count": 15,
   "outputs": []
  },
  {
   "cell_type": "code",
   "source": [
    "df_train.loc[df_train[\"POS\"] == \"VBZ\", \"POS\"] = 0\n",
    "df_train.loc[df_train[\"POS\"] == \"VBP\", \"POS\"] = 1"
   ],
   "metadata": {
    "execution": {
     "iopub.status.busy": "2023-08-07T17:51:35.511335Z",
     "iopub.execute_input": "2023-08-07T17:51:35.511893Z",
     "iopub.status.idle": "2023-08-07T17:51:35.570049Z",
     "shell.execute_reply.started": "2023-08-07T17:51:35.511855Z",
     "shell.execute_reply": "2023-08-07T17:51:35.568777Z"
    },
    "trusted": true
   },
   "execution_count": 16,
   "outputs": []
  },
  {
   "cell_type": "code",
   "source": [
    "Y=keras.utils.to_categorical(df_train['POS'])\n",
    "x_train,x_test,y_train,y_test = train_test_split(pad,Y,test_size=0.20,random_state=42)"
   ],
   "metadata": {
    "execution": {
     "iopub.status.busy": "2023-08-07T17:51:35.571267Z",
     "iopub.execute_input": "2023-08-07T17:51:35.572581Z",
     "iopub.status.idle": "2023-08-07T17:51:35.615034Z",
     "shell.execute_reply.started": "2023-08-07T17:51:35.572547Z",
     "shell.execute_reply": "2023-08-07T17:51:35.614054Z"
    },
    "trusted": true
   },
   "execution_count": 17,
   "outputs": []
  },
  {
   "cell_type": "code",
   "source": [
    "#Simple LSTM Model\n",
    "\n",
    "model=Sequential()\n",
    "model.add(Embedding(input_dim=vocab_size,output_dim = embedding_dim,input_length= max_len,embeddings_initializer=Constant(embed_matrix)))\n",
    "model.add(LSTM(128,return_sequences=False))\n",
    "model.add(Flatten())\n",
    "model.add(Dense(64,activation='relu'))\n",
    "model.add(Dropout(0.50))\n",
    "model.add(Dense(64,activation='relu'))\n",
    "model.add(Dropout(0.20))\n",
    "model.add(Dense(2,activation='sigmoid'))"
   ],
   "metadata": {
    "execution": {
     "iopub.status.busy": "2023-08-07T17:51:35.618531Z",
     "iopub.execute_input": "2023-08-07T17:51:35.618886Z",
     "iopub.status.idle": "2023-08-07T17:51:38.721516Z",
     "shell.execute_reply.started": "2023-08-07T17:51:35.618855Z",
     "shell.execute_reply": "2023-08-07T17:51:38.720315Z"
    },
    "trusted": true
   },
   "execution_count": 18,
   "outputs": []
  },
  {
   "cell_type": "code",
   "source": [
    "model.compile(optimizer = keras.optimizers.RMSprop(lr=1e-3),loss='binary_crossentropy',metrics=['accuracy'])\n",
    "History = model.fit(x_train,y_train,epochs = 20,batch_size = 64,validation_data=(x_test,y_test))"
   ],
   "metadata": {
    "execution": {
     "iopub.status.busy": "2023-08-07T17:51:38.723302Z",
     "iopub.execute_input": "2023-08-07T17:51:38.723660Z",
     "iopub.status.idle": "2023-08-07T17:56:49.180260Z",
     "shell.execute_reply.started": "2023-08-07T17:51:38.723626Z",
     "shell.execute_reply": "2023-08-07T17:56:49.179022Z"
    },
    "trusted": true
   },
   "execution_count": 19,
   "outputs": [
    {
     "name": "stdout",
     "text": "Epoch 1/20\n1775/1775 [==============================] - 21s 9ms/step - loss: 0.1556 - accuracy: 0.9463 - val_loss: 0.0714 - val_accuracy: 0.9713\nEpoch 2/20\n1775/1775 [==============================] - 15s 9ms/step - loss: 0.0520 - accuracy: 0.9845 - val_loss: 0.0410 - val_accuracy: 0.9868\nEpoch 3/20\n1775/1775 [==============================] - 15s 8ms/step - loss: 0.0320 - accuracy: 0.9911 - val_loss: 0.0396 - val_accuracy: 0.9876\nEpoch 4/20\n1775/1775 [==============================] - 16s 9ms/step - loss: 0.0212 - accuracy: 0.9941 - val_loss: 0.0557 - val_accuracy: 0.9894\nEpoch 5/20\n1775/1775 [==============================] - 15s 8ms/step - loss: 0.0151 - accuracy: 0.9962 - val_loss: 0.0382 - val_accuracy: 0.9892\nEpoch 6/20\n1775/1775 [==============================] - 16s 9ms/step - loss: 0.0115 - accuracy: 0.9973 - val_loss: 0.0708 - val_accuracy: 0.9890\nEpoch 7/20\n1775/1775 [==============================] - 16s 9ms/step - loss: 0.0084 - accuracy: 0.9982 - val_loss: 0.0649 - val_accuracy: 0.9895\nEpoch 8/20\n1775/1775 [==============================] - 15s 8ms/step - loss: 0.0074 - accuracy: 0.9985 - val_loss: 0.0944 - val_accuracy: 0.9893\nEpoch 9/20\n1775/1775 [==============================] - 14s 8ms/step - loss: 0.0059 - accuracy: 0.9990 - val_loss: 0.1274 - val_accuracy: 0.9890\nEpoch 10/20\n1775/1775 [==============================] - 15s 8ms/step - loss: 0.0053 - accuracy: 0.9990 - val_loss: 0.1117 - val_accuracy: 0.9892\nEpoch 11/20\n1775/1775 [==============================] - 14s 8ms/step - loss: 0.0045 - accuracy: 0.9993 - val_loss: 0.0850 - val_accuracy: 0.9898\nEpoch 12/20\n1775/1775 [==============================] - 16s 9ms/step - loss: 0.0048 - accuracy: 0.9994 - val_loss: 0.0926 - val_accuracy: 0.9892\nEpoch 13/20\n1775/1775 [==============================] - 16s 9ms/step - loss: 0.0032 - accuracy: 0.9995 - val_loss: 0.1945 - val_accuracy: 0.9889\nEpoch 14/20\n1775/1775 [==============================] - 16s 9ms/step - loss: 0.0034 - accuracy: 0.9995 - val_loss: 0.1656 - val_accuracy: 0.9892\nEpoch 15/20\n1775/1775 [==============================] - 14s 8ms/step - loss: 0.0041 - accuracy: 0.9995 - val_loss: 0.1919 - val_accuracy: 0.9875\nEpoch 16/20\n1775/1775 [==============================] - 15s 8ms/step - loss: 0.0036 - accuracy: 0.9995 - val_loss: 0.1503 - val_accuracy: 0.9892\nEpoch 17/20\n1775/1775 [==============================] - 15s 8ms/step - loss: 0.0028 - accuracy: 0.9996 - val_loss: 0.3047 - val_accuracy: 0.9858\nEpoch 18/20\n1775/1775 [==============================] - 15s 8ms/step - loss: 0.0036 - accuracy: 0.9996 - val_loss: 0.1239 - val_accuracy: 0.9893\nEpoch 19/20\n1775/1775 [==============================] - 15s 9ms/step - loss: 0.0036 - accuracy: 0.9996 - val_loss: 0.2237 - val_accuracy: 0.9884\nEpoch 20/20\n1775/1775 [==============================] - 16s 9ms/step - loss: 0.0029 - accuracy: 0.9996 - val_loss: 0.3486 - val_accuracy: 0.9890\n",
     "output_type": "stream"
    }
   ]
  },
  {
   "cell_type": "code",
   "source": [
    "plt.plot(History.history['loss'])\n",
    "plt.plot(History.history['val_loss'])\n",
    "plt.title('model loss')\n",
    "plt.ylabel('loss')\n",
    "plt.xlabel('epoch')\n",
    "plt.legend(['train', 'test'], loc='upper left')\n",
    "plt.show()"
   ],
   "metadata": {
    "execution": {
     "iopub.status.busy": "2023-08-07T17:56:49.182205Z",
     "iopub.execute_input": "2023-08-07T17:56:49.182812Z",
     "iopub.status.idle": "2023-08-07T17:56:49.526127Z",
     "shell.execute_reply.started": "2023-08-07T17:56:49.182775Z",
     "shell.execute_reply": "2023-08-07T17:56:49.524860Z"
    },
    "trusted": true
   },
   "execution_count": 20,
   "outputs": [
    {
     "output_type": "display_data",
     "data": {
      "text/plain": "<Figure size 640x480 with 1 Axes>",
      "image/png": "[encoded data removed]"
     },
     "metadata": {}
    }
   ]
  },
  {
   "cell_type": "code",
   "source": [
    "plt.plot(History.history['accuracy'])\n",
    "plt.plot(History.history['val_accuracy'])\n",
    "plt.title('model loss')\n",
    "plt.ylabel('loss')\n",
    "plt.xlabel('epoch')\n",
    "plt.legend(['train', 'test'], loc='upper left')\n",
    "plt.show()"
   ],
   "metadata": {
    "execution": {
     "iopub.status.busy": "2023-08-07T17:56:49.527555Z",
     "iopub.execute_input": "2023-08-07T17:56:49.527928Z",
     "iopub.status.idle": "2023-08-07T17:56:49.821010Z",
     "shell.execute_reply.started": "2023-08-07T17:56:49.527900Z",
     "shell.execute_reply": "2023-08-07T17:56:49.819876Z"
    },
    "trusted": true
   },
   "execution_count": 21,
   "outputs": [
    {
     "output_type": "display_data",
     "data": {
      "text/plain": "<Figure size 640x480 with 1 Axes>",
      "image/png": "[encoded data removed]"
     },
     "metadata": {}
    }
   ]
  },
  {
   "cell_type": "code",
   "source": [
    "#BERT Classification\n",
    "import numpy as np\n",
    "import pandas as pd\n",
    "import matplotlib.pyplot as plt\n",
    "\n",
    "import tensorflow as tf\n",
    "import transformers\n",
    "from transformers import BertTokenizer\n",
    "from transformers import DistilBertTokenizer, RobertaTokenizer\n",
    "from tensorflow.keras.optimizers import Adam, SGD"
   ],
   "metadata": {
    "execution": {
     "iopub.status.busy": "2023-08-07T18:17:04.355741Z",
     "iopub.execute_input": "2023-08-07T18:17:04.356168Z",
     "iopub.status.idle": "2023-08-07T18:17:04.366667Z",
     "shell.execute_reply.started": "2023-08-07T18:17:04.356134Z",
     "shell.execute_reply": "2023-08-07T18:17:04.365672Z"
    },
    "trusted": true
   },
   "execution_count": 70,
   "outputs": []
  },
  {
   "cell_type": "code",
   "source": [
    "from transformers import BertTokenizer\n",
    "tokenizer = BertTokenizer.from_pretrained('bert-base-uncased', do_lower_case=True)"
   ],
   "metadata": {
    "execution": {
     "iopub.status.busy": "2023-08-07T18:20:59.616137Z",
     "iopub.execute_input": "2023-08-07T18:20:59.616561Z",
     "iopub.status.idle": "2023-08-07T18:20:59.801100Z",
     "shell.execute_reply.started": "2023-08-07T18:20:59.616527Z",
     "shell.execute_reply": "2023-08-07T18:20:59.800128Z"
    },
    "trusted": true
   },
   "execution_count": 72,
   "outputs": []
  },
  {
   "cell_type": "code",
   "source": [
    "#Binary Classification using BERT\n",
    "\n",
    "import tensorflow as tf\n",
    "import tensorflow_hub as hub\n",
    "import tensorflow_text as text\n",
    "import pandas as pd"
   ],
   "metadata": {
    "execution": {
     "iopub.status.busy": "2023-08-07T18:24:47.210132Z",
     "iopub.execute_input": "2023-08-07T18:24:47.210550Z",
     "iopub.status.idle": "2023-08-07T18:24:47.400406Z",
     "shell.execute_reply.started": "2023-08-07T18:24:47.210516Z",
     "shell.execute_reply": "2023-08-07T18:24:47.399256Z"
    },
    "trusted": true
   },
   "execution_count": 75,
   "outputs": []
  },
  {
   "cell_type": "code",
   "source": [
    "from sklearn.model_selection import train_test_split\n",
    "X_train, X_test, y_train, y_test = train_test_split(df_train['Preamble'],df_train['POS'], stratify=df_train['POS'])"
   ],
   "metadata": {
    "execution": {
     "iopub.status.busy": "2023-08-07T18:24:48.487965Z",
     "iopub.execute_input": "2023-08-07T18:24:48.489084Z",
     "iopub.status.idle": "2023-08-07T18:24:48.567057Z",
     "shell.execute_reply.started": "2023-08-07T18:24:48.489029Z",
     "shell.execute_reply": "2023-08-07T18:24:48.566125Z"
    },
    "trusted": true
   },
   "execution_count": 76,
   "outputs": []
  },
  {
   "cell_type": "code",
   "source": [
    "bert_preprocess = hub.KerasLayer(\"https://tfhub.dev/tensorflow/bert_en_uncased_preprocess/3\")\n",
    "bert_encoder = hub.KerasLayer(\"https://tfhub.dev/tensorflow/bert_en_uncased_L-12_H-768_A-12/4\")"
   ],
   "metadata": {
    "execution": {
     "iopub.status.busy": "2023-08-07T18:24:49.538493Z",
     "iopub.execute_input": "2023-08-07T18:24:49.538858Z",
     "iopub.status.idle": "2023-08-07T18:25:12.466716Z",
     "shell.execute_reply.started": "2023-08-07T18:24:49.538827Z",
     "shell.execute_reply": "2023-08-07T18:25:12.465714Z"
    },
    "trusted": true
   },
   "execution_count": 77,
   "outputs": []
  },
  {
   "cell_type": "code",
   "source": [
    "text_input = tf.keras.layers.Input(shape=(), dtype=tf.string, name='text')\n",
    "preprocessed_text = bert_preprocess(text_input)\n",
    "outputs = bert_encoder(preprocessed_text)"
   ],
   "metadata": {
    "execution": {
     "iopub.status.busy": "2023-08-07T18:29:02.797864Z",
     "iopub.execute_input": "2023-08-07T18:29:02.798478Z",
     "iopub.status.idle": "2023-08-07T18:29:03.729478Z",
     "shell.execute_reply.started": "2023-08-07T18:29:02.798435Z",
     "shell.execute_reply": "2023-08-07T18:29:03.728214Z"
    },
    "trusted": true
   },
   "execution_count": 78,
   "outputs": []
  },
  {
   "cell_type": "code",
   "source": [
    "l = tf.keras.layers.Dropout(0.1, name=\"dropout\")(outputs['pooled_output'])\n",
    "l = tf.keras.layers.Dense(1, activation='sigmoid', name=\"output\")(l)\n",
    "model = tf.keras.Model(inputs=[text_input], outputs = [l])\n",
    "model.summary()"
   ],
   "metadata": {
    "execution": {
     "iopub.status.busy": "2023-08-07T18:29:27.293726Z",
     "iopub.execute_input": "2023-08-07T18:29:27.294591Z",
     "iopub.status.idle": "2023-08-07T18:29:27.666578Z",
     "shell.execute_reply.started": "2023-08-07T18:29:27.294553Z",
     "shell.execute_reply": "2023-08-07T18:29:27.665069Z"
    },
    "trusted": true
   },
   "execution_count": 4,
   "outputs": [
    {
     "traceback": [
      "\u001B[0;31m---------------------------------------------------------------------------\u001B[0m",
      "\u001B[0;31mNameError\u001B[0m                                 Traceback (most recent call last)",
      "Cell \u001B[0;32mIn[4], line 1\u001B[0m\n\u001B[0;32m----> 1\u001B[0m l \u001B[38;5;241m=\u001B[39m \u001B[43mtf\u001B[49m\u001B[38;5;241m.\u001B[39mkeras\u001B[38;5;241m.\u001B[39mlayers\u001B[38;5;241m.\u001B[39mDropout(\u001B[38;5;241m0.1\u001B[39m, name\u001B[38;5;241m=\u001B[39m\u001B[38;5;124m\"\u001B[39m\u001B[38;5;124mdropout\u001B[39m\u001B[38;5;124m\"\u001B[39m)(outputs[\u001B[38;5;124m'\u001B[39m\u001B[38;5;124mpooled_output\u001B[39m\u001B[38;5;124m'\u001B[39m])\n\u001B[1;32m      2\u001B[0m l \u001B[38;5;241m=\u001B[39m tf\u001B[38;5;241m.\u001B[39mkeras\u001B[38;5;241m.\u001B[39mlayers\u001B[38;5;241m.\u001B[39mDense(\u001B[38;5;241m1\u001B[39m, activation\u001B[38;5;241m=\u001B[39m\u001B[38;5;124m'\u001B[39m\u001B[38;5;124msigmoid\u001B[39m\u001B[38;5;124m'\u001B[39m, name\u001B[38;5;241m=\u001B[39m\u001B[38;5;124m\"\u001B[39m\u001B[38;5;124moutput\u001B[39m\u001B[38;5;124m\"\u001B[39m)(l)\n\u001B[1;32m      3\u001B[0m model \u001B[38;5;241m=\u001B[39m tf\u001B[38;5;241m.\u001B[39mkeras\u001B[38;5;241m.\u001B[39mModel(inputs\u001B[38;5;241m=\u001B[39m[text_input], outputs \u001B[38;5;241m=\u001B[39m [l])\n",
      "\u001B[0;31mNameError\u001B[0m: name 'tf' is not defined"
     ],
     "ename": "NameError",
     "evalue": "name 'tf' is not defined",
     "output_type": "error"
    }
   ]
  },
  {
   "cell_type": "code",
   "source": [
    "METRICS = [\n",
    "      tf.keras.metrics.BinaryAccuracy(name='accuracy'),\n",
    "      tf.keras.metrics.Precision(name='precision'),\n",
    "      tf.keras.metrics.Recall(name='recall')\n",
    "]\n",
    "\n",
    "model.compile(optimizer='adam',\n",
    " loss='binary_crossentropy',\n",
    " metrics=METRICS)"
   ],
   "metadata": {
    "execution": {
     "iopub.status.busy": "2023-07-14T18:52:57.062281Z",
     "iopub.execute_input": "2023-07-14T18:52:57.063001Z",
     "iopub.status.idle": "2023-07-14T18:52:57.088279Z",
     "shell.execute_reply.started": "2023-07-14T18:52:57.062966Z",
     "shell.execute_reply": "2023-07-14T18:52:57.087331Z"
    },
    "trusted": true
   },
   "execution_count": null,
   "outputs": []
  },
  {
   "cell_type": "code",
   "source": [
    "X_train = tf.convert_to_tensor(X_train, np.float32)\n",
    "y_train = tf.convert_to_tensor(y_train, np.float32)"
   ],
   "metadata": {
    "execution": {
     "iopub.status.busy": "2023-07-14T18:53:54.112479Z",
     "iopub.execute_input": "2023-07-14T18:53:54.113052Z",
     "iopub.status.idle": "2023-07-14T18:53:54.203441Z",
     "shell.execute_reply.started": "2023-07-14T18:53:54.113009Z",
     "shell.execute_reply": "2023-07-14T18:53:54.201003Z"
    },
    "trusted": true
   },
   "execution_count": null,
   "outputs": []
  },
  {
   "cell_type": "code",
   "source": [
    "model.fit(X_train, y_train, epochs=10)"
   ],
   "metadata": {
    "execution": {
     "iopub.status.busy": "2023-07-14T18:53:54.786193Z",
     "iopub.execute_input": "2023-07-14T18:53:54.787107Z",
     "iopub.status.idle": "2023-07-14T18:53:54.906042Z",
     "shell.execute_reply.started": "2023-07-14T18:53:54.787062Z",
     "shell.execute_reply": "2023-07-14T18:53:54.903568Z"
    },
    "trusted": true
   },
   "execution_count": null,
   "outputs": []
  },
  {
   "cell_type": "code",
   "source": [],
   "metadata": {},
   "execution_count": null,
   "outputs": []
  }
 ]
}
